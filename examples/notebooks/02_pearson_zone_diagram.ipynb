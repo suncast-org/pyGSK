{
 "cells": [
  {
   "cell_type": "markdown",
   "id": "1fe9acb0",
   "metadata": {},
   "source": [
    "# pyGSK — Pearson Zone Diagram (Nd vs M)"
   ]
  },
  {
   "cell_type": "code",
   "execution_count": null,
   "id": "d7bf209b",
   "metadata": {},
   "outputs": [],
   "source": [
    "import numpy as np, matplotlib.pyplot as plt\n",
    "from pygsk.thresholds import sk_moments_central, beta_moments, pearson_family_from_beta\n",
    "def classify_grid(Ms, Nds, eps=1e-6):\n",
    "    Z = np.zeros((Nds.size, Ms.size), dtype=int)\n",
    "    for i, Nd in enumerate(Nds):\n",
    "        for j, M in enumerate(Ms):\n",
    "            if M <= 1:\n",
    "                Z[i, j] = -1; continue\n",
    "            mu, m2, m3, m4 = sk_moments_central(int(M), N=Nd, d=1.0)\n",
    "            b1, b2 = beta_moments(m2, m3, m4)\n",
    "            fam, near = pearson_family_from_beta(b1, b2, eps=eps, prefer_iv=True)\n",
    "            Z[i, j] = {'I':0, 'IV':1, 'VI':2}.get(fam, 1)\n",
    "    return Z\n",
    "Ms  = np.linspace(2, 256, 160)\n",
    "Nds = np.logspace(-1, 2.4, 160)\n",
    "Z = classify_grid(Ms, Nds, eps=1e-6)\n",
    "img = np.zeros((Z.shape[0], Z.shape[1], 3))\n",
    "for i in range(Z.shape[0]):\n",
    "  for j in range(Z.shape[1]):\n",
    "    img[i,j] = (31/255,119/255,180/255) if Z[i,j]==0 else ((187/255,187/255,187/255) if Z[i,j]==1 else (255/255,127/255,14/255))\n",
    "plt.figure(figsize=(7,5))\n",
    "plt.imshow(img, origin='lower', aspect='auto', extent=[Ms.min(), Ms.max(), Nds.min(), Nds.max()])\n",
    "plt.yscale('log'); plt.xlabel('M'); plt.ylabel('N·d')\n",
    "plt.title('Pearson zones (Nd vs M)')\n",
    "from matplotlib.patches import Patch\n",
    "handles = [Patch(color='#1f77b4', label='Type I'), Patch(color='#bbbbbb', label='Type IV'), Patch(color='#ff7f0e', label='Type VI')]\n",
    "plt.legend(handles=handles, loc='upper right')\n",
    "plt.tight_layout(); plt.show()"
   ]
  }
 ],
 "metadata": {},
 "nbformat": 4,
 "nbformat_minor": 5
}
