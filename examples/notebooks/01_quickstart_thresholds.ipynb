{
 "cells": [
  {
   "cell_type": "markdown",
   "id": "bc9d8efe",
   "metadata": {},
   "source": [
    "# pyGSK — Quickstart: SK Thresholds"
   ]
  },
  {
   "cell_type": "code",
   "execution_count": null,
   "id": "eb284916",
   "metadata": {},
   "outputs": [],
   "source": [
    "import numpy as np\n",
    "from pygsk.thresholds import compute_sk_thresholds\n",
    "M, N, d = 128, 64, 1.0\n",
    "pfa_list = [1e-4, 5e-4, 1e-3]\n",
    "for pfa in pfa_list:\n",
    "    lo, hi, std, meta = compute_sk_thresholds(M, N, d, pfa, return_meta=True, mode='explicit', family='III')\n",
    "    print('III', pfa, lo, hi, std)\n",
    "    lo, hi, std, meta = compute_sk_thresholds(M, N, d, pfa, return_meta=True, mode='kappa', kappa_eps=1e-6)\n",
    "    print('kappa', meta['family'], pfa, lo, hi, std)"
   ]
  }
 ],
 "metadata": {},
 "nbformat": 4,
 "nbformat_minor": 5
}
